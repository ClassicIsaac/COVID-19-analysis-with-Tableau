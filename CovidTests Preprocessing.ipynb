{
 "cells": [
  {
   "cell_type": "code",
   "execution_count": null,
   "id": "e2823178",
   "metadata": {},
   "outputs": [],
   "source": [
    "import pandas as pd"
   ]
  },
  {
   "cell_type": "code",
   "execution_count": null,
   "id": "9441a86d",
   "metadata": {},
   "outputs": [],
   "source": [
    "#Set option to display all columns when printing DataFrames\n",
    "pd.set_option(\"display.max_columns\",None)\n",
    "# Specify columns to be read from the Excel file\n",
    "columns=[\"iso_code\",\"continent\",\"location\",\"date\",\"new_tests\",\"total_tests\"]\n",
    "#Read the data from the Excel file and select the specified columns\n",
    "data=pd.read_excel(\"CovidTests_rawdata.xlsx\",usecols=columns)"
   ]
  },
  {
   "cell_type": "code",
   "execution_count": null,
   "id": "5748e408",
   "metadata": {},
   "outputs": [],
   "source": [
    "#Display the first 20 rows of the \n",
    "data.head(20)"
   ]
  },
  {
   "cell_type": "code",
   "execution_count": null,
   "id": "17a172c9",
   "metadata": {},
   "outputs": [],
   "source": [
    "print(data.isnull().sum())\n",
    "print(data.dtypes)"
   ]
  },
  {
   "cell_type": "code",
   "execution_count": null,
   "id": "d5a9528a",
   "metadata": {},
   "outputs": [],
   "source": [
    "null_columns=[\"new_tests\",\"total_tests\"]\n",
    "for _ in null_columns:\n",
    "    data[null_columns]=data[null_columns].fillna(0).astype(int)"
   ]
  },
  {
   "cell_type": "code",
   "execution_count": null,
   "id": "4e7d0418",
   "metadata": {},
   "outputs": [],
   "source": [
    "data.head()"
   ]
  },
  {
   "cell_type": "code",
   "execution_count": null,
   "id": "8801853a",
   "metadata": {},
   "outputs": [],
   "source": [
    "print(data.isnull().sum())\n",
    "print(data.dtypes)"
   ]
  },
  {
   "cell_type": "code",
   "execution_count": null,
   "id": "ae5c746b",
   "metadata": {},
   "outputs": [],
   "source": [
    "data_location=data[data[\"continent\"].notnull()]"
   ]
  },
  {
   "cell_type": "code",
   "execution_count": null,
   "id": "a7e8a76d",
   "metadata": {},
   "outputs": [],
   "source": [
    "#data_continent=data[data[\"continent\"].isnull()]"
   ]
  },
  {
   "cell_type": "code",
   "execution_count": null,
   "id": "05bbd622",
   "metadata": {},
   "outputs": [],
   "source": [
    "#data_continent.to_csv(\"CovidVaccinationsContinent.csv\",index=False)"
   ]
  },
  {
   "cell_type": "code",
   "execution_count": null,
   "id": "aa91f947",
   "metadata": {},
   "outputs": [],
   "source": [
    "data_location.to_csv(\"CovidTests.csv\",index=False)"
   ]
  },
  {
   "cell_type": "code",
   "execution_count": null,
   "id": "f64dafa0",
   "metadata": {},
   "outputs": [],
   "source": []
  }
 ],
 "metadata": {
  "kernelspec": {
   "display_name": "Python 3 (ipykernel)",
   "language": "python",
   "name": "python3"
  },
  "language_info": {
   "codemirror_mode": {
    "name": "ipython",
    "version": 3
   },
   "file_extension": ".py",
   "mimetype": "text/x-python",
   "name": "python",
   "nbconvert_exporter": "python",
   "pygments_lexer": "ipython3",
   "version": "3.9.12"
  }
 },
 "nbformat": 4,
 "nbformat_minor": 5
}
